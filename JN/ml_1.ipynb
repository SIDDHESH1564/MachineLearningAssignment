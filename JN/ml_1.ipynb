{
 "cells": [
  {
   "cell_type": "code",
   "execution_count": 2,
   "id": "f2c75a2f",
   "metadata": {},
   "outputs": [],
   "source": [
    "# %pip install matplotlib\n",
    "# %pip install pandas\n",
    "# %pip install numpy\n",
    "# %pip install scikit-learn\n",
    "import matplotlib.pyplot as plt\n",
    "import pandas as pd"
   ]
  },
  {
   "cell_type": "code",
   "execution_count": 3,
   "id": "fe098d6e",
   "metadata": {
    "scrolled": true
   },
   "outputs": [],
   "source": [
    "# df=pd.read_csv(\"weight-height.csv\")\n",
    "df = pd.read_csv(r\"C:\\Users\\asus\\Jupyter Notebook\\SOCR-HeightWeight.csv\")"
   ]
  },
  {
   "cell_type": "code",
   "execution_count": 4,
   "id": "b651b06b",
   "metadata": {},
   "outputs": [],
   "source": [
    "del df['Index']"
   ]
  },
  {
   "cell_type": "code",
   "execution_count": 5,
   "id": "b3c547b5",
   "metadata": {},
   "outputs": [
    {
     "data": {
      "text/html": [
       "<div>\n",
       "<style scoped>\n",
       "    .dataframe tbody tr th:only-of-type {\n",
       "        vertical-align: middle;\n",
       "    }\n",
       "\n",
       "    .dataframe tbody tr th {\n",
       "        vertical-align: top;\n",
       "    }\n",
       "\n",
       "    .dataframe thead th {\n",
       "        text-align: right;\n",
       "    }\n",
       "</style>\n",
       "<table border=\"1\" class=\"dataframe\">\n",
       "  <thead>\n",
       "    <tr style=\"text-align: right;\">\n",
       "      <th></th>\n",
       "      <th>Height(Inches)</th>\n",
       "      <th>Weight(Pounds)</th>\n",
       "    </tr>\n",
       "  </thead>\n",
       "  <tbody>\n",
       "    <tr>\n",
       "      <th>0</th>\n",
       "      <td>65.78331</td>\n",
       "      <td>112.9925</td>\n",
       "    </tr>\n",
       "    <tr>\n",
       "      <th>1</th>\n",
       "      <td>71.51521</td>\n",
       "      <td>136.4873</td>\n",
       "    </tr>\n",
       "    <tr>\n",
       "      <th>2</th>\n",
       "      <td>69.39874</td>\n",
       "      <td>153.0269</td>\n",
       "    </tr>\n",
       "    <tr>\n",
       "      <th>3</th>\n",
       "      <td>68.21660</td>\n",
       "      <td>142.3354</td>\n",
       "    </tr>\n",
       "    <tr>\n",
       "      <th>4</th>\n",
       "      <td>67.78781</td>\n",
       "      <td>144.2971</td>\n",
       "    </tr>\n",
       "  </tbody>\n",
       "</table>\n",
       "</div>"
      ],
      "text/plain": [
       "   Height(Inches)  Weight(Pounds)\n",
       "0        65.78331        112.9925\n",
       "1        71.51521        136.4873\n",
       "2        69.39874        153.0269\n",
       "3        68.21660        142.3354\n",
       "4        67.78781        144.2971"
      ]
     },
     "execution_count": 5,
     "metadata": {},
     "output_type": "execute_result"
    }
   ],
   "source": [
    "df.head()"
   ]
  },
  {
   "cell_type": "code",
   "execution_count": 6,
   "id": "cf78b7cc",
   "metadata": {},
   "outputs": [
    {
     "data": {
      "text/plain": [
       "Height(Inches)    0\n",
       "Weight(Pounds)    0\n",
       "dtype: int64"
      ]
     },
     "execution_count": 6,
     "metadata": {},
     "output_type": "execute_result"
    }
   ],
   "source": [
    "df.isnull().sum()"
   ]
  },
  {
   "cell_type": "code",
   "execution_count": 7,
   "id": "2b51af95",
   "metadata": {},
   "outputs": [
    {
     "data": {
      "text/plain": [
       "(25000, 2)"
      ]
     },
     "execution_count": 7,
     "metadata": {},
     "output_type": "execute_result"
    }
   ],
   "source": [
    "df.shape"
   ]
  },
  {
   "cell_type": "code",
   "execution_count": 8,
   "id": "a9cf78e5",
   "metadata": {},
   "outputs": [
    {
     "data": {
      "image/png": "[encoded data removed]",
      "text/plain": [
       "<Figure size 432x288 with 1 Axes>"
      ]
     },
     "metadata": {
      "needs_background": "light"
     },
     "output_type": "display_data"
    }
   ],
   "source": [
    "x2 = df.iloc[:, 0].values\n",
    "y2 = df.iloc[:, 1].values\n",
    "plt.scatter(x2,y2,label='Height',color='Green',s=50)\n",
    "plt.xlabel('Height')\n",
    "plt.ylabel('Weight')\n",
    "plt.title('Height vs Weight')\n",
    "plt.legend(loc=\"lower right\")\n",
    "plt.show()"
   ]
  },
  {
   "cell_type": "code",
   "execution_count": 9,
   "id": "221c9712",
   "metadata": {},
   "outputs": [
    {
     "name": "stdout",
     "output_type": "stream",
     "text": [
      "[[65.78331]\n",
      " [71.51521]\n",
      " [69.39874]\n",
      " ...\n",
      " [64.69855]\n",
      " [67.52918]\n",
      " [68.87761]]\n"
     ]
    }
   ],
   "source": [
    "X = df.iloc[:, 0:1].values\n",
    "print(X)"
   ]
  },
  {
   "cell_type": "code",
   "execution_count": 12,
   "id": "17075c36",
   "metadata": {},
   "outputs": [
    {
     "name": "stdout",
     "output_type": "stream",
     "text": [
      "[112.9925 136.4873 153.0269 ... 118.2655 132.2682 124.8742]\n"
     ]
    }
   ],
   "source": [
    "Y = df.iloc[:, 1].values\n",
    "print(Y)"
   ]
  },
  {
   "cell_type": "code",
   "execution_count": 13,
   "id": "ac66ffa6",
   "metadata": {},
   "outputs": [],
   "source": [
    "from sklearn.model_selection import train_test_split\n",
    "X_train, X_test, y_train, y_test = train_test_split(X, Y, test_size=0.2, random_state=123)"
   ]
  },
  {
   "cell_type": "code",
   "execution_count": 14,
   "id": "f8ec0472",
   "metadata": {},
   "outputs": [],
   "source": [
    "from sklearn.linear_model import LinearRegression\n",
    "regressor = LinearRegression()\n",
    "regressor.fit(X_train, y_train)\n",
    "y_pred = regressor.predict(X_test)"
   ]
  },
  {
   "cell_type": "code",
   "execution_count": 15,
   "id": "0d425ede",
   "metadata": {},
   "outputs": [
    {
     "data": {
      "image/png": "[encoded data removed]",
      "text/plain": [
       "<Figure size 432x288 with 1 Axes>"
      ]
     },
     "metadata": {
      "needs_background": "light"
     },
     "output_type": "display_data"
    }
   ],
   "source": [
    "plt.scatter(X_train, y_train, color = 'Orange')\n",
    "plt.plot(X_train, regressor.predict(X_train), color = 'black')\n",
    "plt.title('Hight vs Weights (Training set)')\n",
    "plt.xlabel('Hight')\n",
    "plt.ylabel('Weight')\n",
    "plt.show()"
   ]
  },
  {
   "cell_type": "code",
   "execution_count": 16,
   "id": "95ebb944",
   "metadata": {},
   "outputs": [
    {
     "data": {
      "image/png": "[encoded data removed]",
      "text/plain": [
       "<Figure size 432x288 with 1 Axes>"
      ]
     },
     "metadata": {
      "needs_background": "light"
     },
     "output_type": "display_data"
    }
   ],
   "source": [
    "plt.scatter(X_test, y_test, color = 'Orange')\n",
    "plt.plot(X_train, regressor.predict(X_train), color = 'black')\n",
    "plt.title('Hight vs weights (Test set)')\n",
    "plt.xlabel('Height')\n",
    "plt.ylabel('Weight')\n",
    "plt.show()"
   ]
  },
  {
   "cell_type": "code",
   "execution_count": 17,
   "id": "c73a3a6c",
   "metadata": {},
   "outputs": [
    {
     "name": "stdout",
     "output_type": "stream",
     "text": [
      "Coefficients:  [3.07421187]\n",
      "Mean squared error: 102.21\n",
      "Root mean squared error: 10.11\n",
      "Mean absolute error: 8.03\n",
      "R-squared score: 0.25\n",
      "Adjusted R-squared score: 0.25\n"
     ]
    }
   ],
   "source": [
    "import numpy as np\n",
    "\n",
    "y_pred = regressor.predict(X_test)\n",
    "print('Coefficients: ', regressor.coef_)\n",
    "# The mean squared error\n",
    "print(\"Mean squared error: %.2f\" % np.mean((regressor.predict(X_test) - y_test) ** 2))\n",
    "\n",
    "rmse = np.sqrt(np.mean((regressor.predict(X_test) - y_test) ** 2))\n",
    "print(\"Root mean squared error: %.2f\" % rmse)\n",
    "\n",
    "mae = np.mean(np.abs(regressor.predict(X_test) - y_test))\n",
    "print(\"Mean absolute error: %.2f\" % mae)\n",
    "\n",
    "r2 = regressor.score(X_test, y_test)\n",
    "print(\"R-squared score: %.2f\" % r2)\n",
    "\n",
    "n_features = X_test.shape[1]\n",
    "n_samples = X_test.shape[0]\n",
    "adjusted_r2 = 1 - (1 - r2) * (n_samples - 1) / (n_samples - n_features - 1)\n",
    "print(\"Adjusted R-squared score: %.2f\" % adjusted_r2)"
   ]
  },
  {
   "cell_type": "code",
   "execution_count": 18,
   "id": "9ee14877",
   "metadata": {},
   "outputs": [
    {
     "name": "stdout",
     "output_type": "stream",
     "text": [
      "Coefficients:  [3.07421187]\n",
      "Mean squared error: 102.21\n",
      "Variance score: 0.25\n"
     ]
    }
   ],
   "source": [
    "# Predicting the Test set results\n",
    "y_pred = regressor.predict(X_test)\n",
    "print('Coefficients: ', regressor.coef_)\n",
    "# The mean squared error\n",
    "print(\"Mean squared error: %.2f\" % np.mean((regressor.predict(X_test) - y_test) ** 2))\n",
    "# Explained variance score: 1 is perfect prediction\n",
    "print('Variance score: %.2f' % regressor.score(X_test, y_test))"
   ]
  }
 ],
 "metadata": {
  "kernelspec": {
   "display_name": "Python 3 (ipykernel)",
   "language": "python",
   "name": "python3"
  },
  "language_info": {
   "codemirror_mode": {
    "name": "ipython",
    "version": 3
   },
   "file_extension": ".py",
   "mimetype": "text/x-python",
   "name": "python",
   "nbconvert_exporter": "python",
   "pygments_lexer": "ipython3",
   "version": "3.10.4"
  }
 },
 "nbformat": 4,
 "nbformat_minor": 5
}
